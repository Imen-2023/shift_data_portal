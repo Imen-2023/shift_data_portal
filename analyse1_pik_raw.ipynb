{
 "cells": [
  {
   "cell_type": "code",
   "execution_count": 137,
   "id": "4114ef03",
   "metadata": {},
   "outputs": [],
   "source": [
    "\n",
    "import os\n",
    "import pandas as pd\n",
    "import numpy as np\n",
    "import missingno as msno \n",
    "import matplotlib.pyplot as plt"
   ]
  },
  {
   "cell_type": "markdown",
   "id": "c042a590",
   "metadata": {},
   "source": [
    "### Dataset initial"
   ]
  },
  {
   "cell_type": "code",
   "execution_count": 138,
   "id": "04cb9592",
   "metadata": {},
   "outputs": [
    {
     "data": {
      "text/html": [
       "<div>\n",
       "<style scoped>\n",
       "    .dataframe tbody tr th:only-of-type {\n",
       "        vertical-align: middle;\n",
       "    }\n",
       "\n",
       "    .dataframe tbody tr th {\n",
       "        vertical-align: top;\n",
       "    }\n",
       "\n",
       "    .dataframe thead th {\n",
       "        text-align: right;\n",
       "    }\n",
       "</style>\n",
       "<table border=\"1\" class=\"dataframe\">\n",
       "  <thead>\n",
       "    <tr style=\"text-align: right;\">\n",
       "      <th></th>\n",
       "      <th>country</th>\n",
       "      <th>sector</th>\n",
       "      <th>gas</th>\n",
       "      <th>1850</th>\n",
       "      <th>1851</th>\n",
       "      <th>1852</th>\n",
       "      <th>1853</th>\n",
       "      <th>1854</th>\n",
       "      <th>1855</th>\n",
       "      <th>1856</th>\n",
       "      <th>...</th>\n",
       "      <th>2012</th>\n",
       "      <th>2013</th>\n",
       "      <th>2014</th>\n",
       "      <th>2015</th>\n",
       "      <th>2016</th>\n",
       "      <th>2017</th>\n",
       "      <th>2018</th>\n",
       "      <th>2019</th>\n",
       "      <th>source</th>\n",
       "      <th>unit</th>\n",
       "    </tr>\n",
       "  </thead>\n",
       "  <tbody>\n",
       "    <tr>\n",
       "      <th>0</th>\n",
       "      <td>ABW</td>\n",
       "      <td>Agriculture</td>\n",
       "      <td>CH4</td>\n",
       "      <td>0.000050</td>\n",
       "      <td>0.000051</td>\n",
       "      <td>0.000052</td>\n",
       "      <td>0.000053</td>\n",
       "      <td>0.000054</td>\n",
       "      <td>0.000055</td>\n",
       "      <td>0.000057</td>\n",
       "      <td>...</td>\n",
       "      <td>0.001280</td>\n",
       "      <td>0.001280</td>\n",
       "      <td>0.001280</td>\n",
       "      <td>0.001280</td>\n",
       "      <td>0.001280</td>\n",
       "      <td>0.001280</td>\n",
       "      <td>0.001280</td>\n",
       "      <td>0.001280</td>\n",
       "      <td>PIK</td>\n",
       "      <td>MtCO2e</td>\n",
       "    </tr>\n",
       "    <tr>\n",
       "      <th>1</th>\n",
       "      <td>ABW</td>\n",
       "      <td>Agriculture</td>\n",
       "      <td>KYOTOGHG</td>\n",
       "      <td>0.000054</td>\n",
       "      <td>0.000055</td>\n",
       "      <td>0.000057</td>\n",
       "      <td>0.000058</td>\n",
       "      <td>0.000059</td>\n",
       "      <td>0.000060</td>\n",
       "      <td>0.000061</td>\n",
       "      <td>...</td>\n",
       "      <td>0.002160</td>\n",
       "      <td>0.002160</td>\n",
       "      <td>0.002160</td>\n",
       "      <td>0.002160</td>\n",
       "      <td>0.002160</td>\n",
       "      <td>0.002160</td>\n",
       "      <td>0.002160</td>\n",
       "      <td>0.002160</td>\n",
       "      <td>PIK</td>\n",
       "      <td>MtCO2e</td>\n",
       "    </tr>\n",
       "    <tr>\n",
       "      <th>2</th>\n",
       "      <td>ABW</td>\n",
       "      <td>Agriculture</td>\n",
       "      <td>N2O</td>\n",
       "      <td>0.000005</td>\n",
       "      <td>0.000005</td>\n",
       "      <td>0.000005</td>\n",
       "      <td>0.000005</td>\n",
       "      <td>0.000005</td>\n",
       "      <td>0.000005</td>\n",
       "      <td>0.000005</td>\n",
       "      <td>...</td>\n",
       "      <td>0.000882</td>\n",
       "      <td>0.000882</td>\n",
       "      <td>0.000882</td>\n",
       "      <td>0.000882</td>\n",
       "      <td>0.000882</td>\n",
       "      <td>0.000882</td>\n",
       "      <td>0.000882</td>\n",
       "      <td>0.000882</td>\n",
       "      <td>PIK</td>\n",
       "      <td>MtCO2e</td>\n",
       "    </tr>\n",
       "    <tr>\n",
       "      <th>3</th>\n",
       "      <td>ABW</td>\n",
       "      <td>Energy</td>\n",
       "      <td>CH4</td>\n",
       "      <td>0.000199</td>\n",
       "      <td>0.000196</td>\n",
       "      <td>0.000195</td>\n",
       "      <td>0.000197</td>\n",
       "      <td>0.000199</td>\n",
       "      <td>0.000201</td>\n",
       "      <td>0.000209</td>\n",
       "      <td>...</td>\n",
       "      <td>0.004775</td>\n",
       "      <td>0.014075</td>\n",
       "      <td>0.011150</td>\n",
       "      <td>0.008200</td>\n",
       "      <td>0.005225</td>\n",
       "      <td>0.002230</td>\n",
       "      <td>0.001483</td>\n",
       "      <td>0.001497</td>\n",
       "      <td>PIK</td>\n",
       "      <td>MtCO2e</td>\n",
       "    </tr>\n",
       "    <tr>\n",
       "      <th>4</th>\n",
       "      <td>ABW</td>\n",
       "      <td>Energy</td>\n",
       "      <td>CO2</td>\n",
       "      <td>0.000000</td>\n",
       "      <td>0.000000</td>\n",
       "      <td>0.000000</td>\n",
       "      <td>0.000000</td>\n",
       "      <td>0.000000</td>\n",
       "      <td>0.000000</td>\n",
       "      <td>0.000000</td>\n",
       "      <td>...</td>\n",
       "      <td>1.350000</td>\n",
       "      <td>0.862000</td>\n",
       "      <td>0.873000</td>\n",
       "      <td>0.899000</td>\n",
       "      <td>0.884000</td>\n",
       "      <td>0.932000</td>\n",
       "      <td>0.962000</td>\n",
       "      <td>0.995000</td>\n",
       "      <td>PIK</td>\n",
       "      <td>MtCO2e</td>\n",
       "    </tr>\n",
       "  </tbody>\n",
       "</table>\n",
       "<p>5 rows × 175 columns</p>\n",
       "</div>"
      ],
      "text/plain": [
       "  country       sector       gas      1850      1851      1852      1853  \\\n",
       "0     ABW  Agriculture       CH4  0.000050  0.000051  0.000052  0.000053   \n",
       "1     ABW  Agriculture  KYOTOGHG  0.000054  0.000055  0.000057  0.000058   \n",
       "2     ABW  Agriculture       N2O  0.000005  0.000005  0.000005  0.000005   \n",
       "3     ABW       Energy       CH4  0.000199  0.000196  0.000195  0.000197   \n",
       "4     ABW       Energy       CO2  0.000000  0.000000  0.000000  0.000000   \n",
       "\n",
       "       1854      1855      1856  ...      2012      2013      2014      2015  \\\n",
       "0  0.000054  0.000055  0.000057  ...  0.001280  0.001280  0.001280  0.001280   \n",
       "1  0.000059  0.000060  0.000061  ...  0.002160  0.002160  0.002160  0.002160   \n",
       "2  0.000005  0.000005  0.000005  ...  0.000882  0.000882  0.000882  0.000882   \n",
       "3  0.000199  0.000201  0.000209  ...  0.004775  0.014075  0.011150  0.008200   \n",
       "4  0.000000  0.000000  0.000000  ...  1.350000  0.862000  0.873000  0.899000   \n",
       "\n",
       "       2016      2017      2018      2019  source    unit  \n",
       "0  0.001280  0.001280  0.001280  0.001280     PIK  MtCO2e  \n",
       "1  0.002160  0.002160  0.002160  0.002160     PIK  MtCO2e  \n",
       "2  0.000882  0.000882  0.000882  0.000882     PIK  MtCO2e  \n",
       "3  0.005225  0.002230  0.001483  0.001497     PIK  MtCO2e  \n",
       "4  0.884000  0.932000  0.962000  0.995000     PIK  MtCO2e  \n",
       "\n",
       "[5 rows x 175 columns]"
      ]
     },
     "execution_count": 138,
     "metadata": {},
     "output_type": "execute_result"
    }
   ],
   "source": [
    "curr_path = os.getcwd()\n",
    "pik_raw ='CW_HistoricalEmissions_PIK.csv' # file name\n",
    "path = os.path.dirname('Data\\ClimateWatch_HistoricalEmissions\\\\')\n",
    "dataframe=pd.read_csv(os.path.join(path, pik_raw))\n",
    "dataframe.head()"
   ]
  },
  {
   "cell_type": "code",
   "execution_count": 139,
   "id": "4d65cbf3",
   "metadata": {},
   "outputs": [
    {
     "data": {
      "text/plain": [
       "(4730, 175)"
      ]
     },
     "execution_count": 139,
     "metadata": {},
     "output_type": "execute_result"
    }
   ],
   "source": [
    "dataframe.shape"
   ]
  },
  {
   "cell_type": "code",
   "execution_count": 140,
   "id": "51655e82",
   "metadata": {},
   "outputs": [
    {
     "data": {
      "text/plain": [
       "Index(['country', 'sector', 'gas', '1850', '1851', '1852', '1853', '1854',\n",
       "       '1855', '1856',\n",
       "       ...\n",
       "       '2012', '2013', '2014', '2015', '2016', '2017', '2018', '2019',\n",
       "       'source', 'unit'],\n",
       "      dtype='object', length=175)"
      ]
     },
     "execution_count": 140,
     "metadata": {},
     "output_type": "execute_result"
    }
   ],
   "source": [
    "dataframe.columns"
   ]
  },
  {
   "cell_type": "markdown",
   "id": "d7ade48b",
   "metadata": {},
   "source": [
    "<div class=\"alert alert-info\">-Ce tableau contient les valeurs de gaz pour les années entre 1850 et 2019.\n",
    "</div>"
   ]
  },
  {
   "cell_type": "code",
   "execution_count": 141,
   "id": "6865bbb0",
   "metadata": {},
   "outputs": [
    {
     "data": {
      "text/plain": [
       "array(['CH4', 'KYOTOGHG', 'N2O', 'CO2', 'F-Gas'], dtype=object)"
      ]
     },
     "execution_count": 141,
     "metadata": {},
     "output_type": "execute_result"
    }
   ],
   "source": [
    "dataframe.gas.unique()"
   ]
  },
  {
   "cell_type": "code",
   "execution_count": 142,
   "id": "838122d5",
   "metadata": {},
   "outputs": [
    {
     "data": {
      "text/plain": [
       "array(['Agriculture', 'Energy', 'Industrial Processes and Product Use',\n",
       "       'Other', 'Total excluding LULUCF', 'Waste'], dtype=object)"
      ]
     },
     "execution_count": 142,
     "metadata": {},
     "output_type": "execute_result"
    }
   ],
   "source": [
    "dataframe.sector.unique()"
   ]
  },
  {
   "cell_type": "code",
   "execution_count": 143,
   "id": "854f373d",
   "metadata": {},
   "outputs": [
    {
     "data": {
      "text/plain": [
       "array(['ABW', 'AFG', 'AGO', 'AIA', 'ALB', 'AND', 'ANNEXI', 'ANT', 'AOSIS',\n",
       "       'ARE', 'ARG', 'ARM', 'ATA', 'ATG', 'AUS', 'AUT', 'AZE', 'BASIC',\n",
       "       'BDI', 'BEL', 'BEN', 'BFA', 'BGD', 'BGR', 'BHR', 'BHS', 'BIH',\n",
       "       'BLR', 'BLZ', 'BOL', 'BRA', 'BRB', 'BRN', 'BTN', 'BWA', 'CAF',\n",
       "       'CAN', 'CHE', 'CHL', 'CHN', 'CIV', 'CMR', 'COD', 'COG', 'COK',\n",
       "       'COL', 'COM', 'CPV', 'CRI', 'CUB', 'CYP', 'CZE', 'DEU', 'DJI',\n",
       "       'DMA', 'DNK', 'DOM', 'DZA', 'WORLD', 'ECU', 'EGY', 'ERI', 'ESP',\n",
       "       'EST', 'ETH', 'EUU', 'FIN', 'FJI', 'FRA', 'FSM', 'GAB', 'GBR',\n",
       "       'GEO', 'GHA', 'GIN', 'GMB', 'GNB', 'GNQ', 'GRC', 'GRD', 'GTM',\n",
       "       'GUY', 'HKG', 'HND', 'HRV', 'HTI', 'HUN', 'IDN', 'IND', 'IRL',\n",
       "       'IRN', 'IRQ', 'ISL', 'ISR', 'ITA', 'JAM', 'JOR', 'JPN', 'KAZ',\n",
       "       'KEN', 'KGZ', 'KHM', 'KIR', 'KNA', 'KOR', 'KWT', 'LAO', 'LBN',\n",
       "       'LBR', 'LBY', 'LCA', 'LDC', 'LIE', 'LKA', 'LSO', 'LTU', 'LUX',\n",
       "       'LVA', 'MAC', 'MAR', 'MCO', 'MDA', 'MDG', 'MDV', 'MEX', 'MHL',\n",
       "       'MKD', 'MLI', 'MLT', 'MMR', 'MNE', 'MNG', 'MOZ', 'MRT', 'MUS',\n",
       "       'MWI', 'MYS', 'NAM', 'NER', 'NGA', 'NIC', 'NIU', 'NLD',\n",
       "       'NONANNEXI', 'NOR', 'NPL', 'NRU', 'NZL', 'OMN', 'PAK', 'PAN',\n",
       "       'PER', 'PHL', 'PLW', 'PNG', 'POL', 'PRK', 'PRT', 'PRY', 'QAT',\n",
       "       'ROU', 'RUS', 'RWA', 'SAU', 'SDN', 'SEN', 'SGP', 'SHN', 'SLB',\n",
       "       'SLE', 'SLV', 'SMR', 'SOM', 'SRB', 'SSD', 'STP', 'SUR', 'SVK',\n",
       "       'SVN', 'SWE', 'SWZ', 'SYC', 'SYR', 'TCA', 'TCD', 'TGO', 'THA',\n",
       "       'TJK', 'TKL', 'TKM', 'TLS', 'TON', 'TTO', 'TUN', 'TUR', 'TUV',\n",
       "       'TWN', 'TZA', 'UGA', 'UKR', 'UMBRELLA', 'URY', 'USA', 'UZB', 'VAT',\n",
       "       'VCT', 'VEN', 'VGB', 'VNM', 'VUT', 'WSM', 'YEM', 'ZAF', 'ZMB',\n",
       "       'ZWE'], dtype=object)"
      ]
     },
     "execution_count": 143,
     "metadata": {},
     "output_type": "execute_result"
    }
   ],
   "source": [
    "dataframe.country.unique()"
   ]
  },
  {
   "cell_type": "code",
   "execution_count": 144,
   "id": "ad8b1b50",
   "metadata": {},
   "outputs": [
    {
     "data": {
      "text/plain": [
       "array(['MtCO2e'], dtype=object)"
      ]
     },
     "execution_count": 144,
     "metadata": {},
     "output_type": "execute_result"
    }
   ],
   "source": [
    "dataframe.unit.unique()"
   ]
  },
  {
   "cell_type": "code",
   "execution_count": 145,
   "id": "4cb510f4",
   "metadata": {},
   "outputs": [
    {
     "data": {
      "text/plain": [
       "array(['PIK'], dtype=object)"
      ]
     },
     "execution_count": 145,
     "metadata": {},
     "output_type": "execute_result"
    }
   ],
   "source": [
    "dataframe.source.unique()"
   ]
  },
  {
   "cell_type": "code",
   "execution_count": 146,
   "id": "c61f968e",
   "metadata": {},
   "outputs": [
    {
     "name": "stdout",
     "output_type": "stream",
     "text": [
      "0\n"
     ]
    }
   ],
   "source": [
    "#nombre de lignes dupliquées\n",
    "print(df.duplicated().sum())"
   ]
  },
  {
   "cell_type": "markdown",
   "id": "84d955dd",
   "metadata": {},
   "source": [
    "### Transformation du dataframe"
   ]
  },
  {
   "cell_type": "code",
   "execution_count": 187,
   "id": "f49981c6",
   "metadata": {},
   "outputs": [],
   "source": [
    "df=dataframe.copy()"
   ]
  },
  {
   "cell_type": "code",
   "execution_count": 188,
   "id": "f2a71380",
   "metadata": {},
   "outputs": [
    {
     "name": "stdout",
     "output_type": "stream",
     "text": [
      "  country       sector       gas    unit source  year     value\n",
      "0     ABW  Agriculture       CH4  MtCO2e    PIK  1850  0.000050\n",
      "1     ABW  Agriculture  KYOTOGHG  MtCO2e    PIK  1850  0.000054\n",
      "2     ABW  Agriculture       N2O  MtCO2e    PIK  1850  0.000005\n",
      "3     ABW       Energy       CH4  MtCO2e    PIK  1850  0.000199\n",
      "4     ABW       Energy       CO2  MtCO2e    PIK  1850  0.000000\n"
     ]
    }
   ],
   "source": [
    "# utiliser melt pour transformer les colonnes des années\n",
    "df = df.melt(id_vars=['country', 'sector', 'gas', 'unit', 'source'], var_name='year', value_name='value')\n",
    "# afficher le dataframe transformé\n",
    "print(df.head())\n",
    "\n"
   ]
  },
  {
   "cell_type": "code",
   "execution_count": 189,
   "id": "6eae1ef2",
   "metadata": {},
   "outputs": [
    {
     "data": {
      "text/plain": [
       "(804100, 7)"
      ]
     },
     "execution_count": 189,
     "metadata": {},
     "output_type": "execute_result"
    }
   ],
   "source": [
    "df.shape"
   ]
  },
  {
   "cell_type": "code",
   "execution_count": 149,
   "id": "5f4e6516",
   "metadata": {},
   "outputs": [
    {
     "data": {
      "text/plain": [
       "<AxesSubplot: >"
      ]
     },
     "execution_count": 149,
     "metadata": {},
     "output_type": "execute_result"
    },
    {
     "data": {
      "image/png": "[encoded data removed]",
      "text/plain": [
       "<Figure size 2500x1000 with 3 Axes>"
      ]
     },
     "metadata": {},
     "output_type": "display_data"
    }
   ],
   "source": [
    "#afficher le taux des valeurs non nulles\n",
    "msno.bar(df)"
   ]
  },
  {
   "cell_type": "code",
   "execution_count": 190,
   "id": "20da37f0",
   "metadata": {},
   "outputs": [
    {
     "data": {
      "text/plain": [
       "country    0.000000\n",
       "sector     0.000000\n",
       "gas        0.000000\n",
       "unit       0.000000\n",
       "source     0.000000\n",
       "year       0.000000\n",
       "value      0.330183\n",
       "dtype: float64"
      ]
     },
     "execution_count": 190,
     "metadata": {},
     "output_type": "execute_result"
    }
   ],
   "source": [
    "#pourcentage des valeurs nulles\n",
    "df.isna().mean() * 100"
   ]
  },
  {
   "cell_type": "markdown",
   "id": "c0d94271",
   "metadata": {},
   "source": [
    "<div class=\"alert alert-info\">-Plus que 0.33% des valeurs manquantes gloablement pour les années\n",
    "</div>"
   ]
  },
  {
   "cell_type": "code",
   "execution_count": 153,
   "id": "fa81c4a1",
   "metadata": {
    "scrolled": true
   },
   "outputs": [
    {
     "name": "stdout",
     "output_type": "stream",
     "text": [
      "[['1850', '1851', '1852', '1853', '1854', '1855', '1856', '1857', '1858', '1859'], ['1860', '1861', '1862', '1863', '1864', '1865', '1866', '1867', '1868', '1869'], ['1870', '1871', '1872', '1873', '1874', '1875', '1876', '1877', '1878', '1879'], ['1880', '1881', '1882', '1883', '1884', '1885', '1886', '1887', '1888', '1889'], ['1890', '1891', '1892', '1893', '1894', '1895', '1896', '1897', '1898', '1899'], ['1900', '1901', '1902', '1903', '1904', '1905', '1906', '1907', '1908', '1909'], ['1910', '1911', '1912', '1913', '1914', '1915', '1916', '1917', '1918', '1919'], ['1920', '1921', '1922', '1923', '1924', '1925', '1926', '1927', '1928', '1929'], ['1930', '1931', '1932', '1933', '1934', '1935', '1936', '1937', '1938', '1939'], ['1940', '1941', '1942', '1943', '1944', '1945', '1946', '1947', '1948', '1949'], ['1950', '1951', '1952', '1953', '1954', '1955', '1956', '1957', '1958', '1959'], ['1960', '1961', '1962', '1963', '1964', '1965', '1966', '1967', '1968', '1969'], ['1970', '1971', '1972', '1973', '1974', '1975', '1976', '1977', '1978', '1979'], ['1980', '1981', '1982', '1983', '1984', '1985', '1986', '1987', '1988', '1989'], ['1990', '1991', '1992', '1993', '1994', '1995', '1996', '1997', '1998', '1999'], ['2000', '2001', '2002', '2003', '2004', '2005', '2006', '2007', '2008', '2009'], ['2010', '2011', '2012', '2013', '2014', '2015', '2016', '2017', '2018', '2019']]\n"
     ]
    }
   ],
   "source": [
    "# définir la période ici on prend 10 ans pour decennie\n",
    "interval_size = 10\n",
    "years=list(dataframe.columns[3:173])\n",
    "# créer des sous-listes de pas de 10\n",
    "decennies = []\n",
    "for i in range(0, len(years), interval_size):\n",
    "    decennie = years[i:i+interval_size]\n",
    "    decennies.append(decennie)\n",
    "# afficher la liste des decennies crées\n",
    "print(decennies)"
   ]
  },
  {
   "cell_type": "code",
   "execution_count": 161,
   "id": "30e5c2aa",
   "metadata": {},
   "outputs": [],
   "source": [
    "def get_decennie_label(year):\n",
    "    \"\"\" Return the decennie group label (int) associé à l'année. \"\"\"\n",
    "    for i in range(len(decennies)):\n",
    "        if year in decennies[i]:\n",
    "            return(i+1)\n",
    "        "
   ]
  },
  {
   "cell_type": "code",
   "execution_count": 191,
   "id": "ae047299",
   "metadata": {},
   "outputs": [
    {
     "data": {
      "text/html": [
       "<div>\n",
       "<style scoped>\n",
       "    .dataframe tbody tr th:only-of-type {\n",
       "        vertical-align: middle;\n",
       "    }\n",
       "\n",
       "    .dataframe tbody tr th {\n",
       "        vertical-align: top;\n",
       "    }\n",
       "\n",
       "    .dataframe thead th {\n",
       "        text-align: right;\n",
       "    }\n",
       "</style>\n",
       "<table border=\"1\" class=\"dataframe\">\n",
       "  <thead>\n",
       "    <tr style=\"text-align: right;\">\n",
       "      <th></th>\n",
       "      <th>country</th>\n",
       "      <th>sector</th>\n",
       "      <th>gas</th>\n",
       "      <th>unit</th>\n",
       "      <th>source</th>\n",
       "      <th>year</th>\n",
       "      <th>value</th>\n",
       "      <th>Decennie_RANGE</th>\n",
       "    </tr>\n",
       "  </thead>\n",
       "  <tbody>\n",
       "    <tr>\n",
       "      <th>0</th>\n",
       "      <td>ABW</td>\n",
       "      <td>Agriculture</td>\n",
       "      <td>CH4</td>\n",
       "      <td>MtCO2e</td>\n",
       "      <td>PIK</td>\n",
       "      <td>1850</td>\n",
       "      <td>0.000050</td>\n",
       "      <td>1</td>\n",
       "    </tr>\n",
       "    <tr>\n",
       "      <th>1</th>\n",
       "      <td>ABW</td>\n",
       "      <td>Agriculture</td>\n",
       "      <td>KYOTOGHG</td>\n",
       "      <td>MtCO2e</td>\n",
       "      <td>PIK</td>\n",
       "      <td>1850</td>\n",
       "      <td>0.000054</td>\n",
       "      <td>1</td>\n",
       "    </tr>\n",
       "    <tr>\n",
       "      <th>2</th>\n",
       "      <td>ABW</td>\n",
       "      <td>Agriculture</td>\n",
       "      <td>N2O</td>\n",
       "      <td>MtCO2e</td>\n",
       "      <td>PIK</td>\n",
       "      <td>1850</td>\n",
       "      <td>0.000005</td>\n",
       "      <td>1</td>\n",
       "    </tr>\n",
       "    <tr>\n",
       "      <th>3</th>\n",
       "      <td>ABW</td>\n",
       "      <td>Energy</td>\n",
       "      <td>CH4</td>\n",
       "      <td>MtCO2e</td>\n",
       "      <td>PIK</td>\n",
       "      <td>1850</td>\n",
       "      <td>0.000199</td>\n",
       "      <td>1</td>\n",
       "    </tr>\n",
       "    <tr>\n",
       "      <th>4</th>\n",
       "      <td>ABW</td>\n",
       "      <td>Energy</td>\n",
       "      <td>CO2</td>\n",
       "      <td>MtCO2e</td>\n",
       "      <td>PIK</td>\n",
       "      <td>1850</td>\n",
       "      <td>0.000000</td>\n",
       "      <td>1</td>\n",
       "    </tr>\n",
       "  </tbody>\n",
       "</table>\n",
       "</div>"
      ],
      "text/plain": [
       "  country       sector       gas    unit source  year     value  \\\n",
       "0     ABW  Agriculture       CH4  MtCO2e    PIK  1850  0.000050   \n",
       "1     ABW  Agriculture  KYOTOGHG  MtCO2e    PIK  1850  0.000054   \n",
       "2     ABW  Agriculture       N2O  MtCO2e    PIK  1850  0.000005   \n",
       "3     ABW       Energy       CH4  MtCO2e    PIK  1850  0.000199   \n",
       "4     ABW       Energy       CO2  MtCO2e    PIK  1850  0.000000   \n",
       "\n",
       "   Decennie_RANGE  \n",
       "0               1  \n",
       "1               1  \n",
       "2               1  \n",
       "3               1  \n",
       "4               1  "
      ]
     },
     "execution_count": 191,
     "metadata": {},
     "output_type": "execute_result"
    }
   ],
   "source": [
    "#ajout de la variable Decennie_RANGE \n",
    "df['Decennie_RANGE'] = df['year'].apply(lambda x: get_decennie_label(x))\n",
    "df.head()"
   ]
  },
  {
   "cell_type": "code",
   "execution_count": 163,
   "id": "9df4ea92",
   "metadata": {},
   "outputs": [
    {
     "data": {
      "text/plain": [
       "array([ 1,  2,  3,  4,  5,  6,  7,  8,  9, 10, 11, 12, 13, 14, 15, 16, 17],\n",
       "      dtype=int64)"
      ]
     },
     "execution_count": 163,
     "metadata": {},
     "output_type": "execute_result"
    }
   ],
   "source": [
    "df['Decennie_RANGE'].unique()"
   ]
  },
  {
   "cell_type": "code",
   "execution_count": 178,
   "id": "86b4d8b9",
   "metadata": {},
   "outputs": [
    {
     "name": "stdout",
     "output_type": "stream",
     "text": [
      "Decennie_RANGE\n",
      "1     0.465116\n",
      "2     0.443975\n",
      "3     0.443975\n",
      "4     0.443975\n",
      "5     0.443975\n",
      "6     0.443975\n",
      "7     0.443975\n",
      "8     0.443975\n",
      "9     0.443975\n",
      "10    0.443975\n",
      "11    0.443975\n",
      "12    0.395349\n",
      "13    0.126850\n",
      "14    0.101480\n",
      "15    0.042283\n",
      "16    0.042283\n",
      "17    0.000000\n",
      "Name: value, dtype: float64\n"
     ]
    },
    {
     "data": {
      "text/plain": [
       "Text(0.5, 1.0, 'Pourcentage de valeurs nulles pour la variable \"value\" par décennie')"
      ]
     },
     "execution_count": 178,
     "metadata": {},
     "output_type": "execute_result"
    },
    {
     "data": {
      "image/png": "[encoded data removed]",
      "text/plain": [
       "<Figure size 640x480 with 1 Axes>"
      ]
     },
     "metadata": {},
     "output_type": "display_data"
    }
   ],
   "source": [
    "# grouper les données par 'decennie_range' et calculer le pourcentage de valeurs nulles pour 'value'\n",
    "null_percentages = df.groupby('Decennie_RANGE')['value'].apply(lambda x: (x.isnull().mean())*100)\n",
    "\n",
    "# afficher les résultats\n",
    "print(null_percentages)\n",
    "\n",
    "# créer un graphique à barres\n",
    "null_percentages.plot(kind='bar')\n",
    "plt.xlabel('Décennie')\n",
    "plt.ylabel('Pourcentage de valeurs nulles (%)')\n",
    "plt.title('Pourcentage de valeurs nulles pour la variable \"value\" par décennie')\n"
   ]
  },
  {
   "cell_type": "markdown",
   "id": "65682914",
   "metadata": {},
   "source": [
    "<div class=\"alert alert-info\">-Gobalement le taux des nan pour les valeurs de gaz est faible.<br>\n",
    "-Depuis 4 décennies (13) plus précisement depuis 1970 ,presque toutes les valeurs sont bien remplies.<br>\n",
    "==>possibilité de supprimer les lignes correpondantes.\n",
    "</div>"
   ]
  },
  {
   "cell_type": "code",
   "execution_count": 205,
   "id": "9989bcba",
   "metadata": {},
   "outputs": [
    {
     "data": {
      "text/html": [
       "<div>\n",
       "<style scoped>\n",
       "    .dataframe tbody tr th:only-of-type {\n",
       "        vertical-align: middle;\n",
       "    }\n",
       "\n",
       "    .dataframe tbody tr th {\n",
       "        vertical-align: top;\n",
       "    }\n",
       "\n",
       "    .dataframe thead th {\n",
       "        text-align: right;\n",
       "    }\n",
       "</style>\n",
       "<table border=\"1\" class=\"dataframe\">\n",
       "  <thead>\n",
       "    <tr style=\"text-align: right;\">\n",
       "      <th></th>\n",
       "      <th>Decennie_RANGE</th>\n",
       "      <th>valeur_max</th>\n",
       "      <th>country</th>\n",
       "      <th>sector</th>\n",
       "      <th>gas</th>\n",
       "      <th>year</th>\n",
       "    </tr>\n",
       "  </thead>\n",
       "  <tbody>\n",
       "    <tr>\n",
       "      <th>0</th>\n",
       "      <td>1</td>\n",
       "      <td>1660.0</td>\n",
       "      <td>WORLD</td>\n",
       "      <td>Total excluding LULUCF</td>\n",
       "      <td>KYOTOGHG</td>\n",
       "      <td>1859</td>\n",
       "    </tr>\n",
       "    <tr>\n",
       "      <th>1</th>\n",
       "      <td>2</td>\n",
       "      <td>1980.0</td>\n",
       "      <td>WORLD</td>\n",
       "      <td>Total excluding LULUCF</td>\n",
       "      <td>KYOTOGHG</td>\n",
       "      <td>1869</td>\n",
       "    </tr>\n",
       "    <tr>\n",
       "      <th>2</th>\n",
       "      <td>3</td>\n",
       "      <td>2410.0</td>\n",
       "      <td>WORLD</td>\n",
       "      <td>Total excluding LULUCF</td>\n",
       "      <td>KYOTOGHG</td>\n",
       "      <td>1879</td>\n",
       "    </tr>\n",
       "    <tr>\n",
       "      <th>3</th>\n",
       "      <td>4</td>\n",
       "      <td>3060.0</td>\n",
       "      <td>WORLD</td>\n",
       "      <td>Total excluding LULUCF</td>\n",
       "      <td>KYOTOGHG</td>\n",
       "      <td>1889</td>\n",
       "    </tr>\n",
       "    <tr>\n",
       "      <th>4</th>\n",
       "      <td>5</td>\n",
       "      <td>4000.0</td>\n",
       "      <td>WORLD</td>\n",
       "      <td>Total excluding LULUCF</td>\n",
       "      <td>KYOTOGHG</td>\n",
       "      <td>1899</td>\n",
       "    </tr>\n",
       "    <tr>\n",
       "      <th>5</th>\n",
       "      <td>6</td>\n",
       "      <td>5380.0</td>\n",
       "      <td>WORLD</td>\n",
       "      <td>Total excluding LULUCF</td>\n",
       "      <td>KYOTOGHG</td>\n",
       "      <td>1909</td>\n",
       "    </tr>\n",
       "    <tr>\n",
       "      <th>6</th>\n",
       "      <td>7</td>\n",
       "      <td>6240.0</td>\n",
       "      <td>WORLD</td>\n",
       "      <td>Total excluding LULUCF</td>\n",
       "      <td>KYOTOGHG</td>\n",
       "      <td>1917</td>\n",
       "    </tr>\n",
       "    <tr>\n",
       "      <th>7</th>\n",
       "      <td>8</td>\n",
       "      <td>7480.0</td>\n",
       "      <td>WORLD</td>\n",
       "      <td>Total excluding LULUCF</td>\n",
       "      <td>KYOTOGHG</td>\n",
       "      <td>1929</td>\n",
       "    </tr>\n",
       "    <tr>\n",
       "      <th>8</th>\n",
       "      <td>9</td>\n",
       "      <td>8070.0</td>\n",
       "      <td>WORLD</td>\n",
       "      <td>Total excluding LULUCF</td>\n",
       "      <td>KYOTOGHG</td>\n",
       "      <td>1939</td>\n",
       "    </tr>\n",
       "    <tr>\n",
       "      <th>9</th>\n",
       "      <td>10</td>\n",
       "      <td>10200.0</td>\n",
       "      <td>WORLD</td>\n",
       "      <td>Total excluding LULUCF</td>\n",
       "      <td>KYOTOGHG</td>\n",
       "      <td>1948</td>\n",
       "    </tr>\n",
       "    <tr>\n",
       "      <th>10</th>\n",
       "      <td>11</td>\n",
       "      <td>15100.0</td>\n",
       "      <td>WORLD</td>\n",
       "      <td>Total excluding LULUCF</td>\n",
       "      <td>KYOTOGHG</td>\n",
       "      <td>1959</td>\n",
       "    </tr>\n",
       "    <tr>\n",
       "      <th>11</th>\n",
       "      <td>12</td>\n",
       "      <td>22100.0</td>\n",
       "      <td>WORLD</td>\n",
       "      <td>Total excluding LULUCF</td>\n",
       "      <td>KYOTOGHG</td>\n",
       "      <td>1969</td>\n",
       "    </tr>\n",
       "    <tr>\n",
       "      <th>12</th>\n",
       "      <td>13</td>\n",
       "      <td>29200.0</td>\n",
       "      <td>WORLD</td>\n",
       "      <td>Total excluding LULUCF</td>\n",
       "      <td>KYOTOGHG</td>\n",
       "      <td>1979</td>\n",
       "    </tr>\n",
       "    <tr>\n",
       "      <th>13</th>\n",
       "      <td>14</td>\n",
       "      <td>32300.0</td>\n",
       "      <td>WORLD</td>\n",
       "      <td>Total excluding LULUCF</td>\n",
       "      <td>KYOTOGHG</td>\n",
       "      <td>1989</td>\n",
       "    </tr>\n",
       "    <tr>\n",
       "      <th>14</th>\n",
       "      <td>15</td>\n",
       "      <td>34000.0</td>\n",
       "      <td>WORLD</td>\n",
       "      <td>Total excluding LULUCF</td>\n",
       "      <td>KYOTOGHG</td>\n",
       "      <td>1999</td>\n",
       "    </tr>\n",
       "    <tr>\n",
       "      <th>15</th>\n",
       "      <td>16</td>\n",
       "      <td>42400.0</td>\n",
       "      <td>WORLD</td>\n",
       "      <td>Total excluding LULUCF</td>\n",
       "      <td>KYOTOGHG</td>\n",
       "      <td>2008</td>\n",
       "    </tr>\n",
       "    <tr>\n",
       "      <th>16</th>\n",
       "      <td>17</td>\n",
       "      <td>48300.0</td>\n",
       "      <td>WORLD</td>\n",
       "      <td>Total excluding LULUCF</td>\n",
       "      <td>KYOTOGHG</td>\n",
       "      <td>2019</td>\n",
       "    </tr>\n",
       "  </tbody>\n",
       "</table>\n",
       "</div>"
      ],
      "text/plain": [
       "    Decennie_RANGE  valeur_max country                  sector       gas  year\n",
       "0                1      1660.0   WORLD  Total excluding LULUCF  KYOTOGHG  1859\n",
       "1                2      1980.0   WORLD  Total excluding LULUCF  KYOTOGHG  1869\n",
       "2                3      2410.0   WORLD  Total excluding LULUCF  KYOTOGHG  1879\n",
       "3                4      3060.0   WORLD  Total excluding LULUCF  KYOTOGHG  1889\n",
       "4                5      4000.0   WORLD  Total excluding LULUCF  KYOTOGHG  1899\n",
       "5                6      5380.0   WORLD  Total excluding LULUCF  KYOTOGHG  1909\n",
       "6                7      6240.0   WORLD  Total excluding LULUCF  KYOTOGHG  1917\n",
       "7                8      7480.0   WORLD  Total excluding LULUCF  KYOTOGHG  1929\n",
       "8                9      8070.0   WORLD  Total excluding LULUCF  KYOTOGHG  1939\n",
       "9               10     10200.0   WORLD  Total excluding LULUCF  KYOTOGHG  1948\n",
       "10              11     15100.0   WORLD  Total excluding LULUCF  KYOTOGHG  1959\n",
       "11              12     22100.0   WORLD  Total excluding LULUCF  KYOTOGHG  1969\n",
       "12              13     29200.0   WORLD  Total excluding LULUCF  KYOTOGHG  1979\n",
       "13              14     32300.0   WORLD  Total excluding LULUCF  KYOTOGHG  1989\n",
       "14              15     34000.0   WORLD  Total excluding LULUCF  KYOTOGHG  1999\n",
       "15              16     42400.0   WORLD  Total excluding LULUCF  KYOTOGHG  2008\n",
       "16              17     48300.0   WORLD  Total excluding LULUCF  KYOTOGHG  2019"
      ]
     },
     "execution_count": 205,
     "metadata": {},
     "output_type": "execute_result"
    }
   ],
   "source": [
    "# Trouver l'émission de gaz maximale par décennie\n",
    "max_values = df.groupby('Decennie_RANGE')['value'].max()\n",
    "\n",
    "# Trouver les pays, secteurs et gaz associés aux valeurs maximales\n",
    "idx = df.groupby(['Decennie_RANGE'])['value'].transform(max) == df['value']\n",
    "countries = df.loc[idx, 'country']\n",
    "sectors = df.loc[idx, 'sector']\n",
    "gases = df.loc[idx, 'gas']\n",
    "ys=df.loc[idx, 'year']\n",
    "\n",
    "# Transformer les résultats en dataframe\n",
    "result = pd.DataFrame({\n",
    "    'Decennie_RANGE': max_values.index,\n",
    "    'value': max_values.values,\n",
    "    'country': countries.values,\n",
    "    'sector': sectors.values,\n",
    "    'gas': gases.values,\n",
    "    'year': ys.values\n",
    "}).rename(columns={'value': 'valeur_max'}).sort_values('valeur_max', ascending=True)\n",
    "\n",
    "# Afficher le résultat\n",
    "result"
   ]
  },
  {
   "cell_type": "markdown",
   "id": "6ec3772e",
   "metadata": {},
   "source": [
    "<div class=\"alert alert-info\">-Les gaz à effet de serre sont les plus émis dans le monde.<br>\n",
    "    -Cette émission croit au fil des années.<br>\n",
    " - Ces gaz comprennent le dioxyde de carbone (CO2), le méthane (CH4), le protoxyde d'azote (N2O), les hydrofluorocarbures (HFC), les perfluorocarbures (PFC) et l'hexafluorure de soufre (SF6). <br>\n",
    "    -\"KYOTOGHG\" fait référence aux gaz à effet de serre (GES) inclus dans le protocole de Kyoto, un accord international sur la réduction des émissions de gaz à effet de serre.<br>\n",
    "</div>"
   ]
  },
  {
   "cell_type": "code",
   "execution_count": 3,
   "id": "f83bcb30",
   "metadata": {},
   "outputs": [],
   "source": []
  },
  {
   "cell_type": "code",
   "execution_count": null,
   "id": "e9b0f0e2",
   "metadata": {},
   "outputs": [],
   "source": []
  }
 ],
 "metadata": {
  "kernelspec": {
   "display_name": "Python 3 (ipykernel)",
   "language": "python",
   "name": "python3"
  },
  "language_info": {
   "codemirror_mode": {
    "name": "ipython",
    "version": 3
   },
   "file_extension": ".py",
   "mimetype": "text/x-python",
   "name": "python",
   "nbconvert_exporter": "python",
   "pygments_lexer": "ipython3",
   "version": "3.9.13"
  }
 },
 "nbformat": 4,
 "nbformat_minor": 5
}
